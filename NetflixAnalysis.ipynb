{
 "cells": [
  {
   "cell_type": "code",
   "execution_count": 1,
   "id": "ed61cc54",
   "metadata": {},
   "outputs": [],
   "source": [
    "# Import Dependencies\n",
    "import pandas as pd\n",
    "import numpy as np\n",
    "import math\n",
    "import random\n",
    "import matplotlib.pyplot as plt"
   ]
  },
  {
   "cell_type": "code",
   "execution_count": 4,
   "id": "12d04d2c",
   "metadata": {},
   "outputs": [],
   "source": [
    "df = pd.read_csv('netflix_titles.csv', parse_dates=['date_added'], dayfirst=True)# reading Data\n",
    "# !important We are giving the Parameters to change the mm/dd/yy format to dd/mm/yy"
   ]
  },
  {
   "cell_type": "code",
   "execution_count": 5,
   "id": "a81e5e82",
   "metadata": {
    "scrolled": false
   },
   "outputs": [
    {
     "data": {
      "text/html": [
       "<div>\n",
       "<style scoped>\n",
       "    .dataframe tbody tr th:only-of-type {\n",
       "        vertical-align: middle;\n",
       "    }\n",
       "\n",
       "    .dataframe tbody tr th {\n",
       "        vertical-align: top;\n",
       "    }\n",
       "\n",
       "    .dataframe thead th {\n",
       "        text-align: right;\n",
       "    }\n",
       "</style>\n",
       "<table border=\"1\" class=\"dataframe\">\n",
       "  <thead>\n",
       "    <tr style=\"text-align: right;\">\n",
       "      <th></th>\n",
       "      <th>show_id</th>\n",
       "      <th>type</th>\n",
       "      <th>title</th>\n",
       "      <th>director</th>\n",
       "      <th>cast</th>\n",
       "      <th>country</th>\n",
       "      <th>date_added</th>\n",
       "      <th>release_year</th>\n",
       "      <th>rating</th>\n",
       "      <th>duration</th>\n",
       "      <th>listed_in</th>\n",
       "      <th>description</th>\n",
       "    </tr>\n",
       "  </thead>\n",
       "  <tbody>\n",
       "    <tr>\n",
       "      <th>0</th>\n",
       "      <td>s1</td>\n",
       "      <td>Movie</td>\n",
       "      <td>Dick Johnson Is Dead</td>\n",
       "      <td>Kirsten Johnson</td>\n",
       "      <td>NaN</td>\n",
       "      <td>United States</td>\n",
       "      <td>2021-09-25</td>\n",
       "      <td>2020</td>\n",
       "      <td>PG-13</td>\n",
       "      <td>90 min</td>\n",
       "      <td>Documentaries</td>\n",
       "      <td>As her father nears the end of his life, filmm...</td>\n",
       "    </tr>\n",
       "    <tr>\n",
       "      <th>1</th>\n",
       "      <td>s2</td>\n",
       "      <td>TV Show</td>\n",
       "      <td>Blood &amp; Water</td>\n",
       "      <td>NaN</td>\n",
       "      <td>Ama Qamata, Khosi Ngema, Gail Mabalane, Thaban...</td>\n",
       "      <td>South Africa</td>\n",
       "      <td>2021-09-24</td>\n",
       "      <td>2021</td>\n",
       "      <td>TV-MA</td>\n",
       "      <td>2 Seasons</td>\n",
       "      <td>International TV Shows, TV Dramas, TV Mysteries</td>\n",
       "      <td>After crossing paths at a party, a Cape Town t...</td>\n",
       "    </tr>\n",
       "    <tr>\n",
       "      <th>2</th>\n",
       "      <td>s3</td>\n",
       "      <td>TV Show</td>\n",
       "      <td>Ganglands</td>\n",
       "      <td>Julien Leclercq</td>\n",
       "      <td>Sami Bouajila, Tracy Gotoas, Samuel Jouy, Nabi...</td>\n",
       "      <td>NaN</td>\n",
       "      <td>2021-09-24</td>\n",
       "      <td>2021</td>\n",
       "      <td>TV-MA</td>\n",
       "      <td>1 Season</td>\n",
       "      <td>Crime TV Shows, International TV Shows, TV Act...</td>\n",
       "      <td>To protect his family from a powerful drug lor...</td>\n",
       "    </tr>\n",
       "    <tr>\n",
       "      <th>3</th>\n",
       "      <td>s4</td>\n",
       "      <td>TV Show</td>\n",
       "      <td>Jailbirds New Orleans</td>\n",
       "      <td>NaN</td>\n",
       "      <td>NaN</td>\n",
       "      <td>NaN</td>\n",
       "      <td>2021-09-24</td>\n",
       "      <td>2021</td>\n",
       "      <td>TV-MA</td>\n",
       "      <td>1 Season</td>\n",
       "      <td>Docuseries, Reality TV</td>\n",
       "      <td>Feuds, flirtations and toilet talk go down amo...</td>\n",
       "    </tr>\n",
       "    <tr>\n",
       "      <th>4</th>\n",
       "      <td>s5</td>\n",
       "      <td>TV Show</td>\n",
       "      <td>Kota Factory</td>\n",
       "      <td>NaN</td>\n",
       "      <td>Mayur More, Jitendra Kumar, Ranjan Raj, Alam K...</td>\n",
       "      <td>India</td>\n",
       "      <td>2021-09-24</td>\n",
       "      <td>2021</td>\n",
       "      <td>TV-MA</td>\n",
       "      <td>2 Seasons</td>\n",
       "      <td>International TV Shows, Romantic TV Shows, TV ...</td>\n",
       "      <td>In a city of coaching centers known to train I...</td>\n",
       "    </tr>\n",
       "  </tbody>\n",
       "</table>\n",
       "</div>"
      ],
      "text/plain": [
       "  show_id     type                  title         director  \\\n",
       "0      s1    Movie   Dick Johnson Is Dead  Kirsten Johnson   \n",
       "1      s2  TV Show          Blood & Water              NaN   \n",
       "2      s3  TV Show              Ganglands  Julien Leclercq   \n",
       "3      s4  TV Show  Jailbirds New Orleans              NaN   \n",
       "4      s5  TV Show           Kota Factory              NaN   \n",
       "\n",
       "                                                cast        country  \\\n",
       "0                                                NaN  United States   \n",
       "1  Ama Qamata, Khosi Ngema, Gail Mabalane, Thaban...   South Africa   \n",
       "2  Sami Bouajila, Tracy Gotoas, Samuel Jouy, Nabi...            NaN   \n",
       "3                                                NaN            NaN   \n",
       "4  Mayur More, Jitendra Kumar, Ranjan Raj, Alam K...          India   \n",
       "\n",
       "  date_added  release_year rating   duration  \\\n",
       "0 2021-09-25          2020  PG-13     90 min   \n",
       "1 2021-09-24          2021  TV-MA  2 Seasons   \n",
       "2 2021-09-24          2021  TV-MA   1 Season   \n",
       "3 2021-09-24          2021  TV-MA   1 Season   \n",
       "4 2021-09-24          2021  TV-MA  2 Seasons   \n",
       "\n",
       "                                           listed_in  \\\n",
       "0                                      Documentaries   \n",
       "1    International TV Shows, TV Dramas, TV Mysteries   \n",
       "2  Crime TV Shows, International TV Shows, TV Act...   \n",
       "3                             Docuseries, Reality TV   \n",
       "4  International TV Shows, Romantic TV Shows, TV ...   \n",
       "\n",
       "                                         description  \n",
       "0  As her father nears the end of his life, filmm...  \n",
       "1  After crossing paths at a party, a Cape Town t...  \n",
       "2  To protect his family from a powerful drug lor...  \n",
       "3  Feuds, flirtations and toilet talk go down amo...  \n",
       "4  In a city of coaching centers known to train I...  "
      ]
     },
     "execution_count": 5,
     "metadata": {},
     "output_type": "execute_result"
    }
   ],
   "source": [
    "df.head() # Displaying data set Rows"
   ]
  },
  {
   "cell_type": "code",
   "execution_count": 6,
   "id": "f5806698",
   "metadata": {},
   "outputs": [
    {
     "data": {
      "text/plain": [
       "(8807, 12)"
      ]
     },
     "execution_count": 6,
     "metadata": {},
     "output_type": "execute_result"
    }
   ],
   "source": [
    "df.shape"
   ]
  },
  {
   "cell_type": "markdown",
   "id": "d4de5e9a",
   "metadata": {},
   "source": [
    "# Part 1"
   ]
  },
  {
   "cell_type": "code",
   "execution_count": 9,
   "id": "63131f87",
   "metadata": {},
   "outputs": [],
   "source": [
    "def getMode(array):\n",
    "    top = 0\n",
    "    element = array[0]\n",
    "    \n",
    "    for elem in array:\n",
    "        elementFrequency = list(array).count(elem)\n",
    "        if elementFrequency>top:\n",
    "            top = elementFrequency\n",
    "            element = elem\n",
    "          \n",
    "    if isinstance(element, float):\n",
    "        while True:\n",
    "            idx = random.randint(0,len(array))\n",
    "            if isinstance(array[idx], float):\n",
    "                continue\n",
    "            else:\n",
    "                element = array[idx]\n",
    "                break\n",
    "    \n",
    "    return element"
   ]
  },
  {
   "cell_type": "code",
   "execution_count": 5,
   "id": "60115e60",
   "metadata": {
    "scrolled": false
   },
   "outputs": [
    {
     "name": "stdout",
     "output_type": "stream",
     "text": [
      "s1\n",
      "Movie\n",
      "Dick Johnson Is Dead\n",
      "Paul Berczeller, Mark Radice\n",
      "Ali Sunal, Hatice Şendil, Ayda Aksel, Ahmet Saraçoğlu, Janset, Zerrin Sümer, Somer Karvan, Ali Çelik\n",
      "United States\n",
      "2020-01-01 00:00:00\n",
      "2018\n",
      "TV-MA\n",
      "1 Season\n",
      "Dramas, International Movies\n",
      "Paranormal activity at a lush, abandoned property alarms a group eager to redevelop the site, but the eerie events may not be as unearthly as they think.\n"
     ]
    }
   ],
   "source": [
    "mean = dict()\n",
    "median = dict()\n",
    "mode = dict()\n",
    "\n",
    "from sklearn import preprocessing\n",
    "labelEncoder = preprocessing.LabelEncoder()\n",
    "\n",
    "for col_name in df.columns: \n",
    "    col = labelEncoder.fit_transform(df[col_name]) # Encoding data into numeric form\n",
    "    modeCol = getMode(df[col_name])\n",
    "    mode[col_name] = modeCol\n",
    "    mean[col_name] = float(col.mean()) # Getting the mean\n",
    "    df[col_name].fillna(modeCol, inplace=True) # Replacing all none values with mode\n",
    "    median[col_name] = df[col_name][len(col)//2] # Getting and adding the mean to the Mean Dictionary\n",
    "    print(modeCol)"
   ]
  },
  {
   "cell_type": "code",
   "execution_count": 6,
   "id": "1f3a5065",
   "metadata": {
    "scrolled": true
   },
   "outputs": [
    {
     "data": {
      "text/plain": [
       "{'show_id': 4403.0,\n",
       " 'type': 0.3038492108550017,\n",
       " 'title': 4403.0,\n",
       " 'director': 2977.836039514023,\n",
       " 'cast': 4205.777563301919,\n",
       " 'country': 457.1981378448961,\n",
       " 'date_added': 968.4405586465311,\n",
       " 'release_year': 66.19552628590894,\n",
       " 'rating': 10.017940274781424,\n",
       " 'duration': 93.7584875667083,\n",
       " 'listed_in': 272.6400590439423,\n",
       " 'description': 4385.7215851027595}"
      ]
     },
     "execution_count": 6,
     "metadata": {},
     "output_type": "execute_result"
    }
   ],
   "source": [
    "mean # mean of each column"
   ]
  },
  {
   "cell_type": "code",
   "execution_count": 7,
   "id": "d3346c90",
   "metadata": {},
   "outputs": [
    {
     "data": {
      "text/plain": [
       "{'show_id': 's1',\n",
       " 'type': 'Movie',\n",
       " 'title': 'Dick Johnson Is Dead',\n",
       " 'director': 'Paul Berczeller, Mark Radice',\n",
       " 'cast': 'Ali Sunal, Hatice Şendil, Ayda Aksel, Ahmet Saraçoğlu, Janset, Zerrin Sümer, Somer Karvan, Ali Çelik',\n",
       " 'country': 'United States',\n",
       " 'date_added': Timestamp('2020-01-01 00:00:00'),\n",
       " 'release_year': 2018,\n",
       " 'rating': 'TV-MA',\n",
       " 'duration': '1 Season',\n",
       " 'listed_in': 'Dramas, International Movies',\n",
       " 'description': 'Paranormal activity at a lush, abandoned property alarms a group eager to redevelop the site, but the eerie events may not be as unearthly as they think.'}"
      ]
     },
     "execution_count": 7,
     "metadata": {},
     "output_type": "execute_result"
    }
   ],
   "source": [
    "mode # mode of each column"
   ]
  },
  {
   "cell_type": "code",
   "execution_count": 8,
   "id": "38ac694e",
   "metadata": {},
   "outputs": [
    {
     "data": {
      "text/plain": [
       "{'show_id': 's4404',\n",
       " 'type': 'TV Show',\n",
       " 'title': 'Medal of Honor',\n",
       " 'director': 'Paul Berczeller, Mark Radice',\n",
       " 'cast': 'Oliver Hudson, Ben Schwartz, Paul Wesley, Aldis Hodge, Jonny Weston, Joseph Cross, Jake Abel, Derek Mio',\n",
       " 'country': 'United States',\n",
       " 'date_added': Timestamp('2018-11-09 00:00:00'),\n",
       " 'release_year': 2018,\n",
       " 'rating': 'TV-MA',\n",
       " 'duration': '1 Season',\n",
       " 'listed_in': 'Docuseries, TV Dramas',\n",
       " 'description': 'Honoring service members whose courage merited the awarding of a Medal of Honor, this docudrama series re-creates their inspiring true stories.'}"
      ]
     },
     "execution_count": 8,
     "metadata": {},
     "output_type": "execute_result"
    }
   ],
   "source": [
    "median # meadian of each column"
   ]
  },
  {
   "cell_type": "code",
   "execution_count": 9,
   "id": "3c41b61a",
   "metadata": {},
   "outputs": [
    {
     "name": "stdout",
     "output_type": "stream",
     "text": [
      "<class 'pandas.core.frame.DataFrame'>\n",
      "RangeIndex: 8807 entries, 0 to 8806\n",
      "Data columns (total 12 columns):\n",
      " #   Column        Non-Null Count  Dtype         \n",
      "---  ------        --------------  -----         \n",
      " 0   show_id       8807 non-null   object        \n",
      " 1   type          8807 non-null   object        \n",
      " 2   title         8807 non-null   object        \n",
      " 3   director      8807 non-null   object        \n",
      " 4   cast          8807 non-null   object        \n",
      " 5   country       8807 non-null   object        \n",
      " 6   date_added    8807 non-null   datetime64[ns]\n",
      " 7   release_year  8807 non-null   int64         \n",
      " 8   rating        8807 non-null   object        \n",
      " 9   duration      8807 non-null   object        \n",
      " 10  listed_in     8807 non-null   object        \n",
      " 11  description   8807 non-null   object        \n",
      "dtypes: datetime64[ns](1), int64(1), object(10)\n",
      "memory usage: 825.8+ KB\n"
     ]
    }
   ],
   "source": [
    "df.info() # Obtaining preview of data set"
   ]
  },
  {
   "cell_type": "code",
   "execution_count": 10,
   "id": "421c7647",
   "metadata": {},
   "outputs": [],
   "source": [
    "### Seperating movies and tvshows\n",
    "### Seperating movies based on country\n",
    "movies = dict()\n",
    "shows = dict()\n",
    "countryShows = dict({\n",
    "    'United States': [],\n",
    "    'India': []\n",
    "})\n",
    "countryMovies = dict({\n",
    "    'United States': [],\n",
    "    'India': []\n",
    "})\n",
    "\n",
    "for idx in range(len(df['type'])):\n",
    "    if df['type'][idx] == 'Movie':\n",
    "        movies[idx] = df['title'][idx]\n",
    "        if df['country'][idx] == 'United States' or df['country'][idx] == 'India':\n",
    "            countryMovies[df['country'][idx]].append(df['title'][idx])\n",
    "    elif df['type'][idx] == 'TV Show':\n",
    "        shows[idx] = df['title'][idx]\n",
    "        if df['country'][idx] == 'United States' or df['country'][idx] == 'India':\n",
    "            countryShows[df['country'][idx]].append(df['title'][idx])\n",
    "\n",
    "movies = pd.DataFrame(pd.Series(movies))\n",
    "shows = pd.DataFrame(pd.Series(shows))\n",
    "countryShows = pd.DataFrame(pd.Series(countryShows))\n",
    "countryMovies = pd.DataFrame(pd.Series(countryMovies))"
   ]
  },
  {
   "cell_type": "code",
   "execution_count": 11,
   "id": "fb7a8a4a",
   "metadata": {},
   "outputs": [
    {
     "data": {
      "text/html": [
       "<div>\n",
       "<style scoped>\n",
       "    .dataframe tbody tr th:only-of-type {\n",
       "        vertical-align: middle;\n",
       "    }\n",
       "\n",
       "    .dataframe tbody tr th {\n",
       "        vertical-align: top;\n",
       "    }\n",
       "\n",
       "    .dataframe thead th {\n",
       "        text-align: right;\n",
       "    }\n",
       "</style>\n",
       "<table border=\"1\" class=\"dataframe\">\n",
       "  <thead>\n",
       "    <tr style=\"text-align: right;\">\n",
       "      <th></th>\n",
       "      <th>0</th>\n",
       "    </tr>\n",
       "  </thead>\n",
       "  <tbody>\n",
       "    <tr>\n",
       "      <th>0</th>\n",
       "      <td>Dick Johnson Is Dead</td>\n",
       "    </tr>\n",
       "    <tr>\n",
       "      <th>6</th>\n",
       "      <td>My Little Pony: A New Generation</td>\n",
       "    </tr>\n",
       "    <tr>\n",
       "      <th>7</th>\n",
       "      <td>Sankofa</td>\n",
       "    </tr>\n",
       "    <tr>\n",
       "      <th>9</th>\n",
       "      <td>The Starling</td>\n",
       "    </tr>\n",
       "    <tr>\n",
       "      <th>12</th>\n",
       "      <td>Je Suis Karl</td>\n",
       "    </tr>\n",
       "  </tbody>\n",
       "</table>\n",
       "</div>"
      ],
      "text/plain": [
       "                                   0\n",
       "0               Dick Johnson Is Dead\n",
       "6   My Little Pony: A New Generation\n",
       "7                            Sankofa\n",
       "9                       The Starling\n",
       "12                      Je Suis Karl"
      ]
     },
     "execution_count": 11,
     "metadata": {},
     "output_type": "execute_result"
    }
   ],
   "source": [
    "movies.head()"
   ]
  },
  {
   "cell_type": "code",
   "execution_count": 12,
   "id": "7c12989b",
   "metadata": {},
   "outputs": [
    {
     "data": {
      "text/html": [
       "<div>\n",
       "<style scoped>\n",
       "    .dataframe tbody tr th:only-of-type {\n",
       "        vertical-align: middle;\n",
       "    }\n",
       "\n",
       "    .dataframe tbody tr th {\n",
       "        vertical-align: top;\n",
       "    }\n",
       "\n",
       "    .dataframe thead th {\n",
       "        text-align: right;\n",
       "    }\n",
       "</style>\n",
       "<table border=\"1\" class=\"dataframe\">\n",
       "  <thead>\n",
       "    <tr style=\"text-align: right;\">\n",
       "      <th></th>\n",
       "      <th>0</th>\n",
       "    </tr>\n",
       "  </thead>\n",
       "  <tbody>\n",
       "    <tr>\n",
       "      <th>1</th>\n",
       "      <td>Blood &amp; Water</td>\n",
       "    </tr>\n",
       "    <tr>\n",
       "      <th>2</th>\n",
       "      <td>Ganglands</td>\n",
       "    </tr>\n",
       "    <tr>\n",
       "      <th>3</th>\n",
       "      <td>Jailbirds New Orleans</td>\n",
       "    </tr>\n",
       "    <tr>\n",
       "      <th>4</th>\n",
       "      <td>Kota Factory</td>\n",
       "    </tr>\n",
       "    <tr>\n",
       "      <th>5</th>\n",
       "      <td>Midnight Mass</td>\n",
       "    </tr>\n",
       "  </tbody>\n",
       "</table>\n",
       "</div>"
      ],
      "text/plain": [
       "                       0\n",
       "1          Blood & Water\n",
       "2              Ganglands\n",
       "3  Jailbirds New Orleans\n",
       "4           Kota Factory\n",
       "5          Midnight Mass"
      ]
     },
     "execution_count": 12,
     "metadata": {},
     "output_type": "execute_result"
    }
   ],
   "source": [
    "shows.head()"
   ]
  },
  {
   "cell_type": "code",
   "execution_count": 13,
   "id": "c96d4816",
   "metadata": {},
   "outputs": [
    {
     "data": {
      "text/html": [
       "<div>\n",
       "<style scoped>\n",
       "    .dataframe tbody tr th:only-of-type {\n",
       "        vertical-align: middle;\n",
       "    }\n",
       "\n",
       "    .dataframe tbody tr th {\n",
       "        vertical-align: top;\n",
       "    }\n",
       "\n",
       "    .dataframe thead th {\n",
       "        text-align: right;\n",
       "    }\n",
       "</style>\n",
       "<table border=\"1\" class=\"dataframe\">\n",
       "  <thead>\n",
       "    <tr style=\"text-align: right;\">\n",
       "      <th></th>\n",
       "      <th>0</th>\n",
       "    </tr>\n",
       "  </thead>\n",
       "  <tbody>\n",
       "    <tr>\n",
       "      <th>United States</th>\n",
       "      <td>[Ganglands, Jailbirds New Orleans, Midnight Ma...</td>\n",
       "    </tr>\n",
       "    <tr>\n",
       "      <th>India</th>\n",
       "      <td>[Kota Factory, Chhota Bheem, Dharmakshetra, Ra...</td>\n",
       "    </tr>\n",
       "  </tbody>\n",
       "</table>\n",
       "</div>"
      ],
      "text/plain": [
       "                                                               0\n",
       "United States  [Ganglands, Jailbirds New Orleans, Midnight Ma...\n",
       "India          [Kota Factory, Chhota Bheem, Dharmakshetra, Ra..."
      ]
     },
     "execution_count": 13,
     "metadata": {},
     "output_type": "execute_result"
    }
   ],
   "source": [
    "countryShows.head()"
   ]
  },
  {
   "cell_type": "code",
   "execution_count": 14,
   "id": "2b2f1f1c",
   "metadata": {
    "scrolled": true
   },
   "outputs": [
    {
     "data": {
      "text/html": [
       "<div>\n",
       "<style scoped>\n",
       "    .dataframe tbody tr th:only-of-type {\n",
       "        vertical-align: middle;\n",
       "    }\n",
       "\n",
       "    .dataframe tbody tr th {\n",
       "        vertical-align: top;\n",
       "    }\n",
       "\n",
       "    .dataframe thead th {\n",
       "        text-align: right;\n",
       "    }\n",
       "</style>\n",
       "<table border=\"1\" class=\"dataframe\">\n",
       "  <thead>\n",
       "    <tr style=\"text-align: right;\">\n",
       "      <th></th>\n",
       "      <th>0</th>\n",
       "    </tr>\n",
       "  </thead>\n",
       "  <tbody>\n",
       "    <tr>\n",
       "      <th>United States</th>\n",
       "      <td>[Dick Johnson Is Dead, My Little Pony: A New G...</td>\n",
       "    </tr>\n",
       "    <tr>\n",
       "      <th>India</th>\n",
       "      <td>[Jeans, Angamaly Diaries, Anjaam, Dhanak, Gurg...</td>\n",
       "    </tr>\n",
       "  </tbody>\n",
       "</table>\n",
       "</div>"
      ],
      "text/plain": [
       "                                                               0\n",
       "United States  [Dick Johnson Is Dead, My Little Pony: A New G...\n",
       "India          [Jeans, Angamaly Diaries, Anjaam, Dhanak, Gurg..."
      ]
     },
     "execution_count": 14,
     "metadata": {},
     "output_type": "execute_result"
    }
   ],
   "source": [
    "countryMovies.head()"
   ]
  },
  {
   "cell_type": "markdown",
   "id": "8ab27cba",
   "metadata": {},
   "source": [
    "# Part 2"
   ]
  },
  {
   "cell_type": "code",
   "execution_count": 7,
   "id": "1c47b3bf",
   "metadata": {},
   "outputs": [],
   "source": [
    "def getFrequency(array):\n",
    "    array=list(array)\n",
    "    result = []\n",
    "    for element in list(set(array)):\n",
    "        result.append(array.count(element))\n",
    "    \n",
    "    return result"
   ]
  },
  {
   "cell_type": "code",
   "execution_count": 8,
   "id": "bda955ae",
   "metadata": {},
   "outputs": [],
   "source": [
    "def getExplode(arr):\n",
    "    explode = []\n",
    "    for count in range(len(arr)):\n",
    "        explode.append(random.random())\n",
    "        \n",
    "    return explode"
   ]
  },
  {
   "cell_type": "code",
   "execution_count": 89,
   "id": "48564cf8",
   "metadata": {},
   "outputs": [
    {
     "data": {
      "image/png": "[encoded data removed]",
      "text/plain": [
       "<Figure size 432x288 with 1 Axes>"
      ]
     },
     "metadata": {},
     "output_type": "display_data"
    }
   ],
   "source": [
    "### Visualizing ratings\n",
    "frequencyObject = getFrequency(df['rating'])\n",
    "\n",
    "\n",
    "plt.pie(frequencyObject,\n",
    "    labels = list(set(df['rating'])),\n",
    "    startangle = 0,\n",
    "    shadow = True,\n",
    "    explode=getExplode(frequencyObject),\n",
    "    autopct='%1.1f%%'\n",
    ")\n",
    "plt.show()"
   ]
  },
  {
   "cell_type": "code",
   "execution_count": 13,
   "id": "6839dbfa",
   "metadata": {},
   "outputs": [
    {
     "data": {
      "image/png": "[encoded data removed]",
      "text/plain": [
       "<Figure size 432x288 with 1 Axes>"
      ]
     },
     "metadata": {
      "needs_background": "light"
     },
     "output_type": "display_data"
    }
   ],
   "source": [
    "# Visualizing number of tv shows vs number of movies\n",
    "lengthClasses = [len(movies), len(shows)]\n",
    "classes = ['Movies', 'TV Shows']\n",
    "\n",
    "plt.bar(classes[1], lengthClasses[1], label='TvShows', color='purple')\n",
    "plt.bar(classes[0], lengthClasses[0], label='Movies', color='red')\n",
    "plt.legend()\n",
    "plt.show()"
   ]
  },
  {
   "cell_type": "code",
   "execution_count": 16,
   "id": "c1fe7503",
   "metadata": {},
   "outputs": [
    {
     "data": {
      "text/plain": [
       "2676"
      ]
     },
     "execution_count": 16,
     "metadata": {},
     "output_type": "execute_result"
    }
   ],
   "source": [
    "len(shows)"
   ]
  },
  {
   "cell_type": "code",
   "execution_count": 91,
   "id": "9cb217ad",
   "metadata": {},
   "outputs": [
    {
     "data": {
      "image/png": "[encoded data removed]",
      "text/plain": [
       "<Figure size 432x288 with 1 Axes>"
      ]
     },
     "metadata": {},
     "output_type": "display_data"
    }
   ],
   "source": [
    "### Visualizing Shows based on number of seasons\n",
    "seasons = [element for element in df['duration'] if 'Seasons' in element]\n",
    "frequencySeasons = getFrequency(seasons)\n",
    "\n",
    "plt.pie(frequencySeasons,\n",
    "    labels = set(list(seasons)),\n",
    "    startangle = 0,\n",
    "    shadow = True,\n",
    "    explode=getExplode(frequencySeasons),\n",
    "    autopct='%1.1f%%'\n",
    ")\n",
    "plt.show()"
   ]
  },
  {
   "cell_type": "markdown",
   "id": "aeb77d33",
   "metadata": {},
   "source": [
    "below graph - lengthMovies[0] and lengthMovies[1]"
   ]
  },
  {
   "cell_type": "code",
   "execution_count": 14,
   "id": "58ff724c",
   "metadata": {},
   "outputs": [
    {
     "data": {
      "image/png": "[encoded data removed]",
      "text/plain": [
       "<Figure size 432x288 with 1 Axes>"
      ]
     },
     "metadata": {
      "needs_background": "light"
     },
     "output_type": "display_data"
    }
   ],
   "source": [
    "### Visualize the distribution of movies produced in India vs United States\n",
    "lengthMovies = [len(countryMovies.iloc[0][0]), len(countryMovies.iloc[1][0])]\n",
    "country = [countryMovies.index[0], countryMovies.index[1]]\n",
    "\n",
    "plt.bar(country[1], lengthClasses[1], label='India', color='purple') \n",
    "plt.bar(country[0], lengthClasses[0], label='United States', color='red')\n",
    "plt.legend()\n",
    "plt.show()"
   ]
  },
  {
   "cell_type": "code",
   "execution_count": 31,
   "id": "cc7edddb",
   "metadata": {},
   "outputs": [
    {
     "data": {
      "text/plain": [
       "2058"
      ]
     },
     "execution_count": 31,
     "metadata": {},
     "output_type": "execute_result"
    }
   ],
   "source": [
    "len(countryMovies[0][0])"
   ]
  },
  {
   "cell_type": "code",
   "execution_count": 32,
   "id": "69d9007d",
   "metadata": {},
   "outputs": [
    {
     "data": {
      "text/plain": [
       "2058"
      ]
     },
     "execution_count": 32,
     "metadata": {},
     "output_type": "execute_result"
    }
   ],
   "source": [
    "len(countryMovies.iloc[0][0])"
   ]
  },
  {
   "cell_type": "markdown",
   "id": "04e6b88f",
   "metadata": {},
   "source": [
    "# Part 3"
   ]
  },
  {
   "cell_type": "markdown",
   "id": "bffaa621",
   "metadata": {},
   "source": [
    "## Observation for Part 1\n",
    "\n",
    "We have noticed that that the rows of the dataset can be displayed using \"pandas.DataFrame.head()\" method.<br>\n",
    "We have used a few parameters that convert the dates from mm/dd/yy format to dd/mm/yy format.<br>\n",
    "We can replace the missing values (AKA NaN values) by using the \"fillna()\" method.<br>\n",
    "We can calculate mean by label encoding data, median by floor dividing the length of the data by 2, mode by using getMode() function which calculates the most frequent element. <br>\n",
    "the \"info()\" method is very usefull to get an overview of the data <br>\n",
    "We have iterated throught the data to filter the country, type <br>"
   ]
  },
  {
   "cell_type": "markdown",
   "id": "76683884",
   "metadata": {},
   "source": [
    "# Observation for Part 2\n",
    "\n",
    "We have seen that we can use a Pie Chart to Visualize the Ratings Column. A Pie chart is very helpful as it shows the frequency in percentages.\n",
    "We have usen a Bar Graph to visualize Tv Shows VS Movies. It is very helpful to show a low amount of classes and their frequencies.\n",
    "We have again usen pie chart to visualize the Tv Shows based on number of seasons\n",
    "we have usen a bar chart to visualize movies that have been produced in India versus those\n",
    "produced in the United States as a Bar chart is very helpful with low amount of classes."
   ]
  },
  {
   "cell_type": "code",
   "execution_count": null,
   "id": "c12c6ac1",
   "metadata": {},
   "outputs": [],
   "source": []
  }
 ],
 "metadata": {
  "kernelspec": {
   "display_name": "Python 3",
   "language": "python",
   "name": "python3"
  },
  "language_info": {
   "codemirror_mode": {
    "name": "ipython",
    "version": 3
   },
   "file_extension": ".py",
   "mimetype": "text/x-python",
   "name": "python",
   "nbconvert_exporter": "python",
   "pygments_lexer": "ipython3",
   "version": "3.8.8"
  }
 },
 "nbformat": 4,
 "nbformat_minor": 5
}
